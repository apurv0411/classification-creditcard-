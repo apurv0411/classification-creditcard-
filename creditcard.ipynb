{
 "cells": [
  {
   "cell_type": "code",
   "execution_count": 1,
   "id": "205c1912",
   "metadata": {},
   "outputs": [],
   "source": [
    "import numpy as np\n",
    "import pandas as pd\n",
    "import seaborn as sb\n",
    "import matplotlib.pyplot as plt\n",
    "import warnings\n",
    "warnings.filterwarnings('ignore')"
   ]
  },
  {
   "cell_type": "code",
   "execution_count": 2,
   "id": "aab51d08",
   "metadata": {},
   "outputs": [],
   "source": [
    "#to load the file\n",
    "df=pd.read_csv(\"creditcard.csv\")"
   ]
  },
  {
   "cell_type": "code",
   "execution_count": 3,
   "id": "0a57b5c3",
   "metadata": {},
   "outputs": [
    {
     "data": {
      "text/html": [
       "<div>\n",
       "<style scoped>\n",
       "    .dataframe tbody tr th:only-of-type {\n",
       "        vertical-align: middle;\n",
       "    }\n",
       "\n",
       "    .dataframe tbody tr th {\n",
       "        vertical-align: top;\n",
       "    }\n",
       "\n",
       "    .dataframe thead th {\n",
       "        text-align: right;\n",
       "    }\n",
       "</style>\n",
       "<table border=\"1\" class=\"dataframe\">\n",
       "  <thead>\n",
       "    <tr style=\"text-align: right;\">\n",
       "      <th></th>\n",
       "      <th>Time</th>\n",
       "      <th>V1</th>\n",
       "      <th>V2</th>\n",
       "      <th>V3</th>\n",
       "      <th>V4</th>\n",
       "      <th>V5</th>\n",
       "      <th>V6</th>\n",
       "      <th>V7</th>\n",
       "      <th>V8</th>\n",
       "      <th>V9</th>\n",
       "      <th>...</th>\n",
       "      <th>V21</th>\n",
       "      <th>V22</th>\n",
       "      <th>V23</th>\n",
       "      <th>V24</th>\n",
       "      <th>V25</th>\n",
       "      <th>V26</th>\n",
       "      <th>V27</th>\n",
       "      <th>V28</th>\n",
       "      <th>Amount</th>\n",
       "      <th>Class</th>\n",
       "    </tr>\n",
       "  </thead>\n",
       "  <tbody>\n",
       "    <tr>\n",
       "      <th>0</th>\n",
       "      <td>0.0</td>\n",
       "      <td>-1.359807</td>\n",
       "      <td>-0.072781</td>\n",
       "      <td>2.536347</td>\n",
       "      <td>1.378155</td>\n",
       "      <td>-0.338321</td>\n",
       "      <td>0.462388</td>\n",
       "      <td>0.239599</td>\n",
       "      <td>0.098698</td>\n",
       "      <td>0.363787</td>\n",
       "      <td>...</td>\n",
       "      <td>-0.018307</td>\n",
       "      <td>0.277838</td>\n",
       "      <td>-0.110474</td>\n",
       "      <td>0.066928</td>\n",
       "      <td>0.128539</td>\n",
       "      <td>-0.189115</td>\n",
       "      <td>0.133558</td>\n",
       "      <td>-0.021053</td>\n",
       "      <td>149.62</td>\n",
       "      <td>0</td>\n",
       "    </tr>\n",
       "    <tr>\n",
       "      <th>1</th>\n",
       "      <td>0.0</td>\n",
       "      <td>1.191857</td>\n",
       "      <td>0.266151</td>\n",
       "      <td>0.166480</td>\n",
       "      <td>0.448154</td>\n",
       "      <td>0.060018</td>\n",
       "      <td>-0.082361</td>\n",
       "      <td>-0.078803</td>\n",
       "      <td>0.085102</td>\n",
       "      <td>-0.255425</td>\n",
       "      <td>...</td>\n",
       "      <td>-0.225775</td>\n",
       "      <td>-0.638672</td>\n",
       "      <td>0.101288</td>\n",
       "      <td>-0.339846</td>\n",
       "      <td>0.167170</td>\n",
       "      <td>0.125895</td>\n",
       "      <td>-0.008983</td>\n",
       "      <td>0.014724</td>\n",
       "      <td>2.69</td>\n",
       "      <td>0</td>\n",
       "    </tr>\n",
       "    <tr>\n",
       "      <th>2</th>\n",
       "      <td>1.0</td>\n",
       "      <td>-1.358354</td>\n",
       "      <td>-1.340163</td>\n",
       "      <td>1.773209</td>\n",
       "      <td>0.379780</td>\n",
       "      <td>-0.503198</td>\n",
       "      <td>1.800499</td>\n",
       "      <td>0.791461</td>\n",
       "      <td>0.247676</td>\n",
       "      <td>-1.514654</td>\n",
       "      <td>...</td>\n",
       "      <td>0.247998</td>\n",
       "      <td>0.771679</td>\n",
       "      <td>0.909412</td>\n",
       "      <td>-0.689281</td>\n",
       "      <td>-0.327642</td>\n",
       "      <td>-0.139097</td>\n",
       "      <td>-0.055353</td>\n",
       "      <td>-0.059752</td>\n",
       "      <td>378.66</td>\n",
       "      <td>0</td>\n",
       "    </tr>\n",
       "    <tr>\n",
       "      <th>3</th>\n",
       "      <td>1.0</td>\n",
       "      <td>-0.966272</td>\n",
       "      <td>-0.185226</td>\n",
       "      <td>1.792993</td>\n",
       "      <td>-0.863291</td>\n",
       "      <td>-0.010309</td>\n",
       "      <td>1.247203</td>\n",
       "      <td>0.237609</td>\n",
       "      <td>0.377436</td>\n",
       "      <td>-1.387024</td>\n",
       "      <td>...</td>\n",
       "      <td>-0.108300</td>\n",
       "      <td>0.005274</td>\n",
       "      <td>-0.190321</td>\n",
       "      <td>-1.175575</td>\n",
       "      <td>0.647376</td>\n",
       "      <td>-0.221929</td>\n",
       "      <td>0.062723</td>\n",
       "      <td>0.061458</td>\n",
       "      <td>123.50</td>\n",
       "      <td>0</td>\n",
       "    </tr>\n",
       "    <tr>\n",
       "      <th>4</th>\n",
       "      <td>2.0</td>\n",
       "      <td>-1.158233</td>\n",
       "      <td>0.877737</td>\n",
       "      <td>1.548718</td>\n",
       "      <td>0.403034</td>\n",
       "      <td>-0.407193</td>\n",
       "      <td>0.095921</td>\n",
       "      <td>0.592941</td>\n",
       "      <td>-0.270533</td>\n",
       "      <td>0.817739</td>\n",
       "      <td>...</td>\n",
       "      <td>-0.009431</td>\n",
       "      <td>0.798278</td>\n",
       "      <td>-0.137458</td>\n",
       "      <td>0.141267</td>\n",
       "      <td>-0.206010</td>\n",
       "      <td>0.502292</td>\n",
       "      <td>0.219422</td>\n",
       "      <td>0.215153</td>\n",
       "      <td>69.99</td>\n",
       "      <td>0</td>\n",
       "    </tr>\n",
       "  </tbody>\n",
       "</table>\n",
       "<p>5 rows × 31 columns</p>\n",
       "</div>"
      ],
      "text/plain": [
       "   Time        V1        V2        V3        V4        V5        V6        V7  \\\n",
       "0   0.0 -1.359807 -0.072781  2.536347  1.378155 -0.338321  0.462388  0.239599   \n",
       "1   0.0  1.191857  0.266151  0.166480  0.448154  0.060018 -0.082361 -0.078803   \n",
       "2   1.0 -1.358354 -1.340163  1.773209  0.379780 -0.503198  1.800499  0.791461   \n",
       "3   1.0 -0.966272 -0.185226  1.792993 -0.863291 -0.010309  1.247203  0.237609   \n",
       "4   2.0 -1.158233  0.877737  1.548718  0.403034 -0.407193  0.095921  0.592941   \n",
       "\n",
       "         V8        V9  ...       V21       V22       V23       V24       V25  \\\n",
       "0  0.098698  0.363787  ... -0.018307  0.277838 -0.110474  0.066928  0.128539   \n",
       "1  0.085102 -0.255425  ... -0.225775 -0.638672  0.101288 -0.339846  0.167170   \n",
       "2  0.247676 -1.514654  ...  0.247998  0.771679  0.909412 -0.689281 -0.327642   \n",
       "3  0.377436 -1.387024  ... -0.108300  0.005274 -0.190321 -1.175575  0.647376   \n",
       "4 -0.270533  0.817739  ... -0.009431  0.798278 -0.137458  0.141267 -0.206010   \n",
       "\n",
       "        V26       V27       V28  Amount  Class  \n",
       "0 -0.189115  0.133558 -0.021053  149.62      0  \n",
       "1  0.125895 -0.008983  0.014724    2.69      0  \n",
       "2 -0.139097 -0.055353 -0.059752  378.66      0  \n",
       "3 -0.221929  0.062723  0.061458  123.50      0  \n",
       "4  0.502292  0.219422  0.215153   69.99      0  \n",
       "\n",
       "[5 rows x 31 columns]"
      ]
     },
     "execution_count": 3,
     "metadata": {},
     "output_type": "execute_result"
    }
   ],
   "source": [
    "# first 5 records\n",
    "df.head()"
   ]
  },
  {
   "cell_type": "code",
   "execution_count": 4,
   "id": "d6d89618",
   "metadata": {},
   "outputs": [],
   "source": [
    "#to remove the uncessary columns\n",
    "df.drop(['V1','V2','V3','V4','V5','V6','V7','V8','V9','V10','V11','V12','V13','V14','V15','V16','V17','V18','V19','V20','V21','V22','V23','V24','V25','V26','V27','V28'],axis=1,inplace=True)"
   ]
  },
  {
   "cell_type": "code",
   "execution_count": 5,
   "id": "ab510960",
   "metadata": {},
   "outputs": [
    {
     "data": {
      "text/html": [
       "<div>\n",
       "<style scoped>\n",
       "    .dataframe tbody tr th:only-of-type {\n",
       "        vertical-align: middle;\n",
       "    }\n",
       "\n",
       "    .dataframe tbody tr th {\n",
       "        vertical-align: top;\n",
       "    }\n",
       "\n",
       "    .dataframe thead th {\n",
       "        text-align: right;\n",
       "    }\n",
       "</style>\n",
       "<table border=\"1\" class=\"dataframe\">\n",
       "  <thead>\n",
       "    <tr style=\"text-align: right;\">\n",
       "      <th></th>\n",
       "      <th>Time</th>\n",
       "      <th>Amount</th>\n",
       "      <th>Class</th>\n",
       "    </tr>\n",
       "  </thead>\n",
       "  <tbody>\n",
       "    <tr>\n",
       "      <th>0</th>\n",
       "      <td>0.0</td>\n",
       "      <td>149.62</td>\n",
       "      <td>0</td>\n",
       "    </tr>\n",
       "    <tr>\n",
       "      <th>1</th>\n",
       "      <td>0.0</td>\n",
       "      <td>2.69</td>\n",
       "      <td>0</td>\n",
       "    </tr>\n",
       "    <tr>\n",
       "      <th>2</th>\n",
       "      <td>1.0</td>\n",
       "      <td>378.66</td>\n",
       "      <td>0</td>\n",
       "    </tr>\n",
       "    <tr>\n",
       "      <th>3</th>\n",
       "      <td>1.0</td>\n",
       "      <td>123.50</td>\n",
       "      <td>0</td>\n",
       "    </tr>\n",
       "    <tr>\n",
       "      <th>4</th>\n",
       "      <td>2.0</td>\n",
       "      <td>69.99</td>\n",
       "      <td>0</td>\n",
       "    </tr>\n",
       "  </tbody>\n",
       "</table>\n",
       "</div>"
      ],
      "text/plain": [
       "   Time  Amount  Class\n",
       "0   0.0  149.62      0\n",
       "1   0.0    2.69      0\n",
       "2   1.0  378.66      0\n",
       "3   1.0  123.50      0\n",
       "4   2.0   69.99      0"
      ]
     },
     "execution_count": 5,
     "metadata": {},
     "output_type": "execute_result"
    }
   ],
   "source": [
    "df.head()"
   ]
  },
  {
   "cell_type": "code",
   "execution_count": 6,
   "id": "b2851cc8",
   "metadata": {},
   "outputs": [
    {
     "data": {
      "text/html": [
       "<div>\n",
       "<style scoped>\n",
       "    .dataframe tbody tr th:only-of-type {\n",
       "        vertical-align: middle;\n",
       "    }\n",
       "\n",
       "    .dataframe tbody tr th {\n",
       "        vertical-align: top;\n",
       "    }\n",
       "\n",
       "    .dataframe thead th {\n",
       "        text-align: right;\n",
       "    }\n",
       "</style>\n",
       "<table border=\"1\" class=\"dataframe\">\n",
       "  <thead>\n",
       "    <tr style=\"text-align: right;\">\n",
       "      <th></th>\n",
       "      <th>Time</th>\n",
       "      <th>Amount</th>\n",
       "      <th>Class</th>\n",
       "    </tr>\n",
       "  </thead>\n",
       "  <tbody>\n",
       "    <tr>\n",
       "      <th>25963</th>\n",
       "      <td>33847.0</td>\n",
       "      <td>33.35</td>\n",
       "      <td>0</td>\n",
       "    </tr>\n",
       "    <tr>\n",
       "      <th>92354</th>\n",
       "      <td>63896.0</td>\n",
       "      <td>14.49</td>\n",
       "      <td>0</td>\n",
       "    </tr>\n",
       "    <tr>\n",
       "      <th>97600</th>\n",
       "      <td>66292.0</td>\n",
       "      <td>3.69</td>\n",
       "      <td>0</td>\n",
       "    </tr>\n",
       "    <tr>\n",
       "      <th>46381</th>\n",
       "      <td>42766.0</td>\n",
       "      <td>1.52</td>\n",
       "      <td>0</td>\n",
       "    </tr>\n",
       "    <tr>\n",
       "      <th>11261</th>\n",
       "      <td>19554.0</td>\n",
       "      <td>0.76</td>\n",
       "      <td>0</td>\n",
       "    </tr>\n",
       "    <tr>\n",
       "      <th>151268</th>\n",
       "      <td>95185.0</td>\n",
       "      <td>27.49</td>\n",
       "      <td>0</td>\n",
       "    </tr>\n",
       "    <tr>\n",
       "      <th>200162</th>\n",
       "      <td>133312.0</td>\n",
       "      <td>80.41</td>\n",
       "      <td>0</td>\n",
       "    </tr>\n",
       "    <tr>\n",
       "      <th>141959</th>\n",
       "      <td>84537.0</td>\n",
       "      <td>99.95</td>\n",
       "      <td>0</td>\n",
       "    </tr>\n",
       "    <tr>\n",
       "      <th>54852</th>\n",
       "      <td>46656.0</td>\n",
       "      <td>50.00</td>\n",
       "      <td>0</td>\n",
       "    </tr>\n",
       "    <tr>\n",
       "      <th>3399</th>\n",
       "      <td>2922.0</td>\n",
       "      <td>1.00</td>\n",
       "      <td>0</td>\n",
       "    </tr>\n",
       "    <tr>\n",
       "      <th>203950</th>\n",
       "      <td>135045.0</td>\n",
       "      <td>25.00</td>\n",
       "      <td>0</td>\n",
       "    </tr>\n",
       "    <tr>\n",
       "      <th>133794</th>\n",
       "      <td>80534.0</td>\n",
       "      <td>111.16</td>\n",
       "      <td>0</td>\n",
       "    </tr>\n",
       "    <tr>\n",
       "      <th>149467</th>\n",
       "      <td>91284.0</td>\n",
       "      <td>153.00</td>\n",
       "      <td>0</td>\n",
       "    </tr>\n",
       "    <tr>\n",
       "      <th>239816</th>\n",
       "      <td>150284.0</td>\n",
       "      <td>1.98</td>\n",
       "      <td>0</td>\n",
       "    </tr>\n",
       "    <tr>\n",
       "      <th>118770</th>\n",
       "      <td>75208.0</td>\n",
       "      <td>188.48</td>\n",
       "      <td>0</td>\n",
       "    </tr>\n",
       "    <tr>\n",
       "      <th>111433</th>\n",
       "      <td>72228.0</td>\n",
       "      <td>10.59</td>\n",
       "      <td>0</td>\n",
       "    </tr>\n",
       "    <tr>\n",
       "      <th>6289</th>\n",
       "      <td>7423.0</td>\n",
       "      <td>0.00</td>\n",
       "      <td>0</td>\n",
       "    </tr>\n",
       "    <tr>\n",
       "      <th>247488</th>\n",
       "      <td>153592.0</td>\n",
       "      <td>5.50</td>\n",
       "      <td>0</td>\n",
       "    </tr>\n",
       "    <tr>\n",
       "      <th>224966</th>\n",
       "      <td>144041.0</td>\n",
       "      <td>0.89</td>\n",
       "      <td>0</td>\n",
       "    </tr>\n",
       "    <tr>\n",
       "      <th>8631</th>\n",
       "      <td>11663.0</td>\n",
       "      <td>99.99</td>\n",
       "      <td>0</td>\n",
       "    </tr>\n",
       "  </tbody>\n",
       "</table>\n",
       "</div>"
      ],
      "text/plain": [
       "            Time  Amount  Class\n",
       "25963    33847.0   33.35      0\n",
       "92354    63896.0   14.49      0\n",
       "97600    66292.0    3.69      0\n",
       "46381    42766.0    1.52      0\n",
       "11261    19554.0    0.76      0\n",
       "151268   95185.0   27.49      0\n",
       "200162  133312.0   80.41      0\n",
       "141959   84537.0   99.95      0\n",
       "54852    46656.0   50.00      0\n",
       "3399      2922.0    1.00      0\n",
       "203950  135045.0   25.00      0\n",
       "133794   80534.0  111.16      0\n",
       "149467   91284.0  153.00      0\n",
       "239816  150284.0    1.98      0\n",
       "118770   75208.0  188.48      0\n",
       "111433   72228.0   10.59      0\n",
       "6289      7423.0    0.00      0\n",
       "247488  153592.0    5.50      0\n",
       "224966  144041.0    0.89      0\n",
       "8631     11663.0   99.99      0"
      ]
     },
     "execution_count": 6,
     "metadata": {},
     "output_type": "execute_result"
    }
   ],
   "source": [
    "#random values\n",
    "df.sample(20)"
   ]
  },
  {
   "cell_type": "code",
   "execution_count": 7,
   "id": "ea68f9c6",
   "metadata": {},
   "outputs": [
    {
     "data": {
      "text/plain": [
       "0    284315\n",
       "1       492\n",
       "Name: Class, dtype: int64"
      ]
     },
     "execution_count": 7,
     "metadata": {},
     "output_type": "execute_result"
    }
   ],
   "source": [
    "df['Class'].value_counts()"
   ]
  },
  {
   "cell_type": "code",
   "execution_count": 8,
   "id": "5417cbac",
   "metadata": {},
   "outputs": [
    {
     "data": {
      "text/plain": [
       "Time      0\n",
       "Amount    0\n",
       "Class     0\n",
       "dtype: int64"
      ]
     },
     "execution_count": 8,
     "metadata": {},
     "output_type": "execute_result"
    }
   ],
   "source": [
    "#to check null values\n",
    "df.isnull().sum()"
   ]
  },
  {
   "cell_type": "code",
   "execution_count": 9,
   "id": "38b29194",
   "metadata": {},
   "outputs": [
    {
     "data": {
      "image/png": "[encoded data removed]",
      "text/plain": [
       "<Figure size 432x288 with 2 Axes>"
      ]
     },
     "metadata": {
      "needs_background": "light"
     },
     "output_type": "display_data"
    }
   ],
   "source": [
    "#visualise\n",
    "sb.heatmap(df.isnull())\n",
    "plt.show()"
   ]
  },
  {
   "cell_type": "code",
   "execution_count": 10,
   "id": "506e3adf",
   "metadata": {},
   "outputs": [
    {
     "data": {
      "text/plain": [
       "Time      float64\n",
       "Amount    float64\n",
       "Class       int64\n",
       "dtype: object"
      ]
     },
     "execution_count": 10,
     "metadata": {},
     "output_type": "execute_result"
    }
   ],
   "source": [
    "#check data types\n",
    "df.dtypes"
   ]
  },
  {
   "cell_type": "code",
   "execution_count": 11,
   "id": "cb064e08",
   "metadata": {},
   "outputs": [
    {
     "data": {
      "text/plain": [
       "4857"
      ]
     },
     "execution_count": 11,
     "metadata": {},
     "output_type": "execute_result"
    }
   ],
   "source": [
    "#check duplicates values\n",
    "df.duplicated().sum()"
   ]
  },
  {
   "cell_type": "code",
   "execution_count": 12,
   "id": "8e35e3cc",
   "metadata": {},
   "outputs": [
    {
     "data": {
      "text/plain": [
       "(284807, 3)"
      ]
     },
     "execution_count": 12,
     "metadata": {},
     "output_type": "execute_result"
    }
   ],
   "source": [
    "#how many rows and columns\n",
    "df.shape"
   ]
  },
  {
   "cell_type": "code",
   "execution_count": 13,
   "id": "752bb866",
   "metadata": {},
   "outputs": [
    {
     "name": "stdout",
     "output_type": "stream",
     "text": [
      "0    284315\n",
      "1       492\n",
      "Name: Class, dtype: int64\n"
     ]
    },
    {
     "data": {
      "image/png": "[encoded data removed]",
      "text/plain": [
       "<Figure size 432x288 with 1 Axes>"
      ]
     },
     "metadata": {
      "needs_background": "light"
     },
     "output_type": "display_data"
    }
   ],
   "source": [
    "#check balance or unbalance \n",
    "#here target:class\n",
    "#check categorical data use countplot\n",
    "sb.countplot(data=df,x='Class')\n",
    "f=df['Class'].value_counts()\n",
    "print(f)\n",
    "plt.yticks(f)\n",
    "plt.show()"
   ]
  },
  {
   "cell_type": "code",
   "execution_count": 14,
   "id": "0c2e9c48",
   "metadata": {},
   "outputs": [],
   "source": [
    "#clearly undesstand ,data is unbalance"
   ]
  },
  {
   "cell_type": "code",
   "execution_count": 15,
   "id": "6a29f2ad",
   "metadata": {},
   "outputs": [],
   "source": [
    "#select input and output\n",
    "x=df.drop(\"Class\",axis=1) #select input\n",
    "y=df['Class']  #select output"
   ]
  },
  {
   "cell_type": "code",
   "execution_count": 16,
   "id": "b2c96e3b",
   "metadata": {},
   "outputs": [],
   "source": [
    "from sklearn.model_selection import train_test_split"
   ]
  },
  {
   "cell_type": "code",
   "execution_count": 17,
   "id": "6e01f448",
   "metadata": {},
   "outputs": [],
   "source": [
    "#train_test_split\n",
    "x_train,x_test,y_train,y_test=train_test_split(x,y,test_size=0.3,random_state=1)"
   ]
  },
  {
   "cell_type": "code",
   "execution_count": 18,
   "id": "93ffa7d3",
   "metadata": {},
   "outputs": [
    {
     "data": {
      "text/html": [
       "<div>\n",
       "<style scoped>\n",
       "    .dataframe tbody tr th:only-of-type {\n",
       "        vertical-align: middle;\n",
       "    }\n",
       "\n",
       "    .dataframe tbody tr th {\n",
       "        vertical-align: top;\n",
       "    }\n",
       "\n",
       "    .dataframe thead th {\n",
       "        text-align: right;\n",
       "    }\n",
       "</style>\n",
       "<table border=\"1\" class=\"dataframe\">\n",
       "  <thead>\n",
       "    <tr style=\"text-align: right;\">\n",
       "      <th></th>\n",
       "      <th>Time</th>\n",
       "      <th>Amount</th>\n",
       "    </tr>\n",
       "  </thead>\n",
       "  <tbody>\n",
       "    <tr>\n",
       "      <th>191125</th>\n",
       "      <td>129124.0</td>\n",
       "      <td>14.37</td>\n",
       "    </tr>\n",
       "    <tr>\n",
       "      <th>153710</th>\n",
       "      <td>99901.0</td>\n",
       "      <td>9.00</td>\n",
       "    </tr>\n",
       "    <tr>\n",
       "      <th>261216</th>\n",
       "      <td>159917.0</td>\n",
       "      <td>1.98</td>\n",
       "    </tr>\n",
       "    <tr>\n",
       "      <th>190724</th>\n",
       "      <td>128961.0</td>\n",
       "      <td>4.60</td>\n",
       "    </tr>\n",
       "    <tr>\n",
       "      <th>127492</th>\n",
       "      <td>78349.0</td>\n",
       "      <td>46.87</td>\n",
       "    </tr>\n",
       "  </tbody>\n",
       "</table>\n",
       "</div>"
      ],
      "text/plain": [
       "            Time  Amount\n",
       "191125  129124.0   14.37\n",
       "153710   99901.0    9.00\n",
       "261216  159917.0    1.98\n",
       "190724  128961.0    4.60\n",
       "127492   78349.0   46.87"
      ]
     },
     "execution_count": 18,
     "metadata": {},
     "output_type": "execute_result"
    }
   ],
   "source": [
    "x_train.head()"
   ]
  },
  {
   "cell_type": "code",
   "execution_count": 19,
   "id": "1515f2cc",
   "metadata": {},
   "outputs": [
    {
     "data": {
      "text/plain": [
       "191125    0\n",
       "153710    0\n",
       "261216    0\n",
       "190724    0\n",
       "127492    0\n",
       "Name: Class, dtype: int64"
      ]
     },
     "execution_count": 19,
     "metadata": {},
     "output_type": "execute_result"
    }
   ],
   "source": [
    "y_train.head()"
   ]
  },
  {
   "cell_type": "code",
   "execution_count": 20,
   "id": "a607fc31",
   "metadata": {},
   "outputs": [],
   "source": [
    "#Apply StandardScaler\n",
    "from sklearn.preprocessing import StandardScaler\n",
    "#create the object of StandardScaler class\n",
    "ss=StandardScaler()\n",
    "x_train=ss.fit_transform(x_train)\n",
    "x_test=ss.transform(x_test)"
   ]
  },
  {
   "cell_type": "code",
   "execution_count": 21,
   "id": "cba72646",
   "metadata": {},
   "outputs": [
    {
     "data": {
      "text/plain": [
       "0    199007\n",
       "1       357\n",
       "Name: Class, dtype: int64"
      ]
     },
     "execution_count": 21,
     "metadata": {},
     "output_type": "execute_result"
    }
   ],
   "source": [
    "#first check Y_train(0 & 1): how many sample of 0's and 1's\n",
    "y_train.value_counts()"
   ]
  },
  {
   "cell_type": "code",
   "execution_count": 22,
   "id": "79224c93",
   "metadata": {},
   "outputs": [],
   "source": [
    "#clearly understand, data is unbalance\n",
    "#now we have to balance to given dataset means Y_train \n",
    "#use RandomOverSampler means to convert minorty class into majority class\n",
    "#means increase means make a duplicates copy of some records randomly \n",
    "#and force minority class converts to majority class"
   ]
  },
  {
   "cell_type": "code",
   "execution_count": 25,
   "id": "fb9cc7e3",
   "metadata": {},
   "outputs": [
    {
     "name": "stdout",
     "output_type": "stream",
     "text": [
      "Collecting imblearn\n",
      "  Using cached imblearn-0.0-py2.py3-none-any.whl (1.9 kB)\n",
      "Collecting imbalanced-learn\n",
      "  Using cached imbalanced_learn-0.9.1-py3-none-any.whl (199 kB)\n",
      "Requirement already satisfied: threadpoolctl>=2.0.0 in c:\\users\\dell\\anaconda3\\lib\\site-packages (from imbalanced-learn->imblearn) (2.2.0)\n",
      "Requirement already satisfied: scipy>=1.3.2 in c:\\users\\dell\\anaconda3\\lib\\site-packages (from imbalanced-learn->imblearn) (1.7.3)\n",
      "Requirement already satisfied: numpy>=1.17.3 in c:\\users\\dell\\anaconda3\\lib\\site-packages (from imbalanced-learn->imblearn) (1.21.5)\n",
      "Requirement already satisfied: scikit-learn>=1.1.0 in c:\\users\\dell\\anaconda3\\lib\\site-packages (from imbalanced-learn->imblearn) (1.1.3)\n",
      "Requirement already satisfied: joblib>=1.0.0 in c:\\users\\dell\\anaconda3\\lib\\site-packages (from imbalanced-learn->imblearn) (1.1.0)\n",
      "Installing collected packages: imbalanced-learn, imblearn\n",
      "Successfully installed imbalanced-learn-0.9.1 imblearn-0.0\n",
      "Note: you may need to restart the kernel to use updated packages.\n"
     ]
    }
   ],
   "source": [
    "pip install imblearn"
   ]
  },
  {
   "cell_type": "code",
   "execution_count": 24,
   "id": "9b1590dc",
   "metadata": {},
   "outputs": [
    {
     "ename": "ModuleNotFoundError",
     "evalue": "No module named 'imblearn'",
     "output_type": "error",
     "traceback": [
      "\u001b[1;31m---------------------------------------------------------------------------\u001b[0m",
      "\u001b[1;31mModuleNotFoundError\u001b[0m                       Traceback (most recent call last)",
      "Input \u001b[1;32mIn [24]\u001b[0m, in \u001b[0;36m<cell line: 1>\u001b[1;34m()\u001b[0m\n\u001b[1;32m----> 1\u001b[0m \u001b[38;5;28;01mfrom\u001b[39;00m \u001b[38;5;21;01mimblearn\u001b[39;00m\u001b[38;5;21;01m.\u001b[39;00m\u001b[38;5;21;01mover_sampling\u001b[39;00m \u001b[38;5;28;01mimport\u001b[39;00m RandomOverSampler\n",
      "\u001b[1;31mModuleNotFoundError\u001b[0m: No module named 'imblearn'"
     ]
    }
   ],
   "source": [
    "from imblearn.over_sampling import RandomOverSampler\n",
    "#RandomOverSampler inbuilt class which defined in outer class over sampling & over_sampling defined in inbuilt class\\"
   ]
  },
  {
   "cell_type": "code",
   "execution_count": null,
   "id": "5085b76f",
   "metadata": {},
   "outputs": [],
   "source": [
    "#create the object of class RandomOverSampler\n",
    "ros=RandomOverSampler(random_state=1)\n",
    "x_train1,y_train1=ros.fit_resample(x_train,y_train)\n",
    "#fit_resample() inbuilt method of RandomOverSampler class"
   ]
  },
  {
   "cell_type": "code",
   "execution_count": null,
   "id": "72eb6b0a",
   "metadata": {},
   "outputs": [],
   "source": [
    "x_train1.shape,y_train1.shape"
   ]
  },
  {
   "cell_type": "code",
   "execution_count": null,
   "id": "f73bedc5",
   "metadata": {},
   "outputs": [],
   "source": [
    "#check y_train\n",
    "y_train1.value_counts()"
   ]
  },
  {
   "cell_type": "code",
   "execution_count": null,
   "id": "b981a35d",
   "metadata": {},
   "outputs": [],
   "source": [
    "#check y_test\n",
    "y_test.value_counts()"
   ]
  },
  {
   "cell_type": "code",
   "execution_count": null,
   "id": "2f4cbee4",
   "metadata": {},
   "outputs": [],
   "source": [
    "#clearly,y_test data is unbalanced"
   ]
  },
  {
   "cell_type": "code",
   "execution_count": null,
   "id": "a46c2d59",
   "metadata": {},
   "outputs": [],
   "source": [
    "ros=RandomOverSampler(random_state=1)\n",
    "x_test1,y_test1=ros.fit_resample(x_test,y_test)"
   ]
  },
  {
   "cell_type": "code",
   "execution_count": null,
   "id": "7e9726b8",
   "metadata": {},
   "outputs": [],
   "source": [
    "x_test1.shape,y_test1.shape"
   ]
  },
  {
   "cell_type": "code",
   "execution_count": null,
   "id": "d50e5f1c",
   "metadata": {},
   "outputs": [],
   "source": [
    "#again check y_test1\n",
    "y_test1.value_counts()"
   ]
  },
  {
   "cell_type": "code",
   "execution_count": null,
   "id": "1bc65efc",
   "metadata": {},
   "outputs": [],
   "source": [
    "#create a function for user defined\n",
    "def create_model(model):\n",
    "    #first train the model with 70% data\n",
    "    model.fit(x_train1,y_train1)\n",
    "    #train the model with 30% data\n",
    "    y_pred=model.predict(x_test1)\n",
    "    \n",
    "    #generate report\n",
    "    print(classification_report(y_test1,y_pred))\n",
    "    print(confusion_matrix(y_test1,y_pred))\n",
    "    return model"
   ]
  },
  {
   "cell_type": "code",
   "execution_count": null,
   "id": "86b8999c",
   "metadata": {},
   "outputs": [],
   "source": [
    "from sklearn.metrics import classification_report,confusion_matrix"
   ]
  },
  {
   "cell_type": "markdown",
   "id": "160f8b68",
   "metadata": {},
   "source": [
    "# LogisticRegression"
   ]
  },
  {
   "cell_type": "code",
   "execution_count": null,
   "id": "9b9feea0",
   "metadata": {},
   "outputs": [],
   "source": [
    "from sklearn.linear_model import LogisticRegression "
   ]
  },
  {
   "cell_type": "code",
   "execution_count": null,
   "id": "1577ac0c",
   "metadata": {},
   "outputs": [],
   "source": [
    "#create the object of LogisticRegression class\n",
    "lr=LogisticRegression()"
   ]
  },
  {
   "cell_type": "code",
   "execution_count": null,
   "id": "04d45670",
   "metadata": {},
   "outputs": [],
   "source": [
    "#call function\n",
    "lr=create_model(lr)"
   ]
  },
  {
   "cell_type": "code",
   "execution_count": null,
   "id": "df6c439b",
   "metadata": {},
   "outputs": [],
   "source": [
    "#here recall is 0.56(56%)"
   ]
  },
  {
   "cell_type": "markdown",
   "id": "c8e0190a",
   "metadata": {},
   "source": [
    "# DecisionTreeClassifier(GINI INDEX)"
   ]
  },
  {
   "cell_type": "code",
   "execution_count": null,
   "id": "61cc697c",
   "metadata": {},
   "outputs": [],
   "source": [
    "#call class\n",
    "from sklearn.tree import DecisionTreeClassifier"
   ]
  },
  {
   "cell_type": "code",
   "execution_count": null,
   "id": "6e2d8424",
   "metadata": {},
   "outputs": [],
   "source": [
    "#create the object of DecisionTreeClassifier class\n",
    "dt=DecisionTreeClassifier()"
   ]
  },
  {
   "cell_type": "code",
   "execution_count": null,
   "id": "4f291fa8",
   "metadata": {},
   "outputs": [],
   "source": [
    "#call function\n",
    "dt=create_model(dt)"
   ]
  },
  {
   "cell_type": "code",
   "execution_count": null,
   "id": "d14e8bff",
   "metadata": {},
   "outputs": [],
   "source": [
    "#here recall is 0.12(12%)"
   ]
  },
  {
   "cell_type": "markdown",
   "id": "3a71a69f",
   "metadata": {},
   "source": [
    "# 1st Purning Technique"
   ]
  },
  {
   "cell_type": "code",
   "execution_count": null,
   "id": "891c000d",
   "metadata": {},
   "outputs": [],
   "source": [
    "#max_depth=8"
   ]
  },
  {
   "cell_type": "code",
   "execution_count": null,
   "id": "bad05ec2",
   "metadata": {},
   "outputs": [],
   "source": [
    "\"\"\"for i in range(1,9):  #start=1 stop=9-1=8 step=1\n",
    "    dt=DecisionTreeClassifier(random_state=1,max_depth=i)\n",
    "    print(\"max depth:\",i)\n",
    "    #call function\n",
    "    dt=create_model(dt)\"\"\""
   ]
  },
  {
   "cell_type": "code",
   "execution_count": null,
   "id": "b8aa4fc1",
   "metadata": {},
   "outputs": [],
   "source": [
    "dt=DecisionTreeClassifier(random_state=1,max_depth=2)\n",
    "#call function\n",
    "dt=create_model(dt)"
   ]
  },
  {
   "cell_type": "code",
   "execution_count": null,
   "id": "5bc968f4",
   "metadata": {},
   "outputs": [],
   "source": [
    "#here recall is 0.66(66%)"
   ]
  },
  {
   "cell_type": "markdown",
   "id": "8bd891f3",
   "metadata": {},
   "source": [
    "# 2nd Purning Technique"
   ]
  },
  {
   "cell_type": "code",
   "execution_count": null,
   "id": "9740e522",
   "metadata": {},
   "outputs": [],
   "source": [
    "#min_samples_leaf(10-100)"
   ]
  },
  {
   "cell_type": "code",
   "execution_count": null,
   "id": "9269f426",
   "metadata": {},
   "outputs": [],
   "source": [
    "\"\"\"for i in range(10,101):  #start=10 stop=101-1=100 step=1\n",
    "    dt2=DecisionTreeClassifier(random_state=1,min_samples_leaf=i)\n",
    "    print(\"min_samples_leaf:\",i)\n",
    "    #call function\n",
    "    dt2=create_model(dt1)\"\"\""
   ]
  },
  {
   "cell_type": "code",
   "execution_count": null,
   "id": "6a6beecf",
   "metadata": {},
   "outputs": [],
   "source": [
    "dt2=DecisionTreeClassifier(random_state=1,min_samples_leaf=98)\n",
    "#call function\n",
    "dt2=create_model(dt2)"
   ]
  },
  {
   "cell_type": "code",
   "execution_count": null,
   "id": "2dc4cbaf",
   "metadata": {},
   "outputs": [],
   "source": [
    "#here recall is 0.33(33%)"
   ]
  },
  {
   "cell_type": "markdown",
   "id": "5a7e75b6",
   "metadata": {},
   "source": [
    "# DecisionTreeClassifier(Entropy) "
   ]
  },
  {
   "cell_type": "code",
   "execution_count": null,
   "id": "86b9ec60",
   "metadata": {},
   "outputs": [],
   "source": [
    "#call class\n",
    "#from sklearn.tree import DecisionTreeClassifier"
   ]
  },
  {
   "cell_type": "code",
   "execution_count": null,
   "id": "7d40669e",
   "metadata": {},
   "outputs": [],
   "source": [
    "#create the object of DecisionTreeClassifier class\n",
    "dt=DecisionTreeClassifier(random_state=1,criterion=\"entropy\")"
   ]
  },
  {
   "cell_type": "code",
   "execution_count": null,
   "id": "d1bf2abf",
   "metadata": {},
   "outputs": [],
   "source": [
    "#call function\n",
    "dt=create_model(dt)"
   ]
  },
  {
   "cell_type": "code",
   "execution_count": null,
   "id": "25e2dd3c",
   "metadata": {},
   "outputs": [],
   "source": [
    "#here recall is 0.12(12%)"
   ]
  },
  {
   "cell_type": "markdown",
   "id": "7013237f",
   "metadata": {},
   "source": [
    "# 1st Purning Technique"
   ]
  },
  {
   "cell_type": "code",
   "execution_count": null,
   "id": "b62b7113",
   "metadata": {},
   "outputs": [],
   "source": [
    "#max depth"
   ]
  },
  {
   "cell_type": "code",
   "execution_count": null,
   "id": "4bb5fe8c",
   "metadata": {},
   "outputs": [],
   "source": [
    "\"\"\"for i in range(1,9): #start=1 stop=9-1=8 step=1\n",
    "    dt1=DecisionTreeClassifier(random_state=1,criterion=\"entropy\",max_depth=i)\n",
    "    print(\"max_depth:\",i)\n",
    "    #call function\n",
    "    dt1=create_model(dt1)\"\"\""
   ]
  },
  {
   "cell_type": "code",
   "execution_count": null,
   "id": "6e994902",
   "metadata": {},
   "outputs": [],
   "source": [
    "dt1=DecisionTreeClassifier(random_state=1,criterion=\"entropy\",max_depth=2)\n",
    "#call function\n",
    "dt1=create_model(dt1)"
   ]
  },
  {
   "cell_type": "code",
   "execution_count": null,
   "id": "d243de36",
   "metadata": {},
   "outputs": [],
   "source": [
    "#here recall is 0.66(66%)"
   ]
  },
  {
   "cell_type": "markdown",
   "id": "74548362",
   "metadata": {},
   "source": [
    "# 2nd Purning Technique"
   ]
  },
  {
   "cell_type": "code",
   "execution_count": null,
   "id": "ea3a1762",
   "metadata": {},
   "outputs": [],
   "source": [
    "#min_samples_leaf"
   ]
  },
  {
   "cell_type": "code",
   "execution_count": null,
   "id": "17c7f619",
   "metadata": {},
   "outputs": [],
   "source": [
    "\"\"\"for i in range(10,101): #start=10 stop=101-1=100 step=1\n",
    "    dt2=DecisionTreeClassifier(random_state=1,criterion=\"entropy\",min_samples_leaf=i)\n",
    "    print(\"min_samples_leaf:\",i)\n",
    "    #call function\n",
    "    dt2=create_model(dt2)\"\"\""
   ]
  },
  {
   "cell_type": "code",
   "execution_count": null,
   "id": "2a4cfe82",
   "metadata": {
    "scrolled": true
   },
   "outputs": [],
   "source": [
    "dt2=DecisionTreeClassifier(random_state=1,criterion=\"entropy\",min_samples_leaf=96)\n",
    "#call function\n",
    "dt2=create_model(dt2)"
   ]
  },
  {
   "cell_type": "code",
   "execution_count": null,
   "id": "1283b597",
   "metadata": {},
   "outputs": [],
   "source": [
    "#here recall is 0.32(32%)"
   ]
  },
  {
   "cell_type": "markdown",
   "id": "1abbe1b3",
   "metadata": {},
   "source": [
    "# RandomForestClassifier"
   ]
  },
  {
   "cell_type": "code",
   "execution_count": null,
   "id": "7a7dd441",
   "metadata": {},
   "outputs": [],
   "source": [
    "#Apply Random Forest Tree :It is Bootstraping Ensembling Technique\n",
    "#It is work with Bagging classifier Bootstraping Ensembling Technique\n",
    "#In RandomForestTree:Train the dataset on multiple DecisionTree Algo.\n",
    "#sklearn-package\n",
    "#Ensemble -outer class\n",
    "#RandomForestClassifier class -inner calss\n",
    "#fit()\n",
    "#predict()\n",
    "#ensemble means to train given dataset on multiple algo."
   ]
  },
  {
   "cell_type": "code",
   "execution_count": null,
   "id": "2364725e",
   "metadata": {},
   "outputs": [],
   "source": [
    "#call class\n",
    "from sklearn.ensemble import RandomForestClassifier"
   ]
  },
  {
   "cell_type": "code",
   "execution_count": null,
   "id": "f96892dc",
   "metadata": {},
   "outputs": [],
   "source": [
    "\"\"\"for i in range(10,101):\n",
    "    rfc=RandomForestClassifier(n_estimators=i,random_state=1)\n",
    "    print(\"Random Forest is:\",i)\n",
    "    #call function\n",
    "    rfc=create_model(rfc)\"\"\""
   ]
  },
  {
   "cell_type": "code",
   "execution_count": null,
   "id": "f06a32ce",
   "metadata": {},
   "outputs": [],
   "source": [
    "#create the object of RandomForestClassifier class\n",
    "rfc=RandomForestClassifier(n_estimators=10,random_state=1)\n",
    "#call function\n",
    "rfc=create_model(rfc)"
   ]
  },
  {
   "cell_type": "code",
   "execution_count": null,
   "id": "829cb34f",
   "metadata": {},
   "outputs": [],
   "source": [
    "#here recall is 0.12(12%)"
   ]
  },
  {
   "cell_type": "markdown",
   "id": "b09f810f",
   "metadata": {},
   "source": [
    "# Purning Technique"
   ]
  },
  {
   "cell_type": "code",
   "execution_count": null,
   "id": "25cee4f9",
   "metadata": {},
   "outputs": [],
   "source": [
    "#max depth"
   ]
  },
  {
   "cell_type": "code",
   "execution_count": null,
   "id": "f8790061",
   "metadata": {},
   "outputs": [],
   "source": [
    "\"\"\"for i in range(1,19):  #start=1,stop=19-1=18 step=1\n",
    "    rfc1=RandomForestClassifier(n_estimators=10,random_state=1,max_depth=i)\n",
    "    print(\"max depth:\",i)\n",
    "    #call function\n",
    "    rfc1=create_model(rfc1)\"\"\""
   ]
  },
  {
   "cell_type": "code",
   "execution_count": null,
   "id": "3360fa28",
   "metadata": {},
   "outputs": [],
   "source": [
    "rfc1=RandomForestClassifier(n_estimators=10,random_state=1,max_depth=1)\n",
    "#call function \n",
    "rfc1=create_model(rfc1)"
   ]
  },
  {
   "cell_type": "code",
   "execution_count": null,
   "id": "eff68de3",
   "metadata": {},
   "outputs": [],
   "source": [
    "#here recall is 0.67(67%)"
   ]
  },
  {
   "cell_type": "markdown",
   "id": "6d73b16f",
   "metadata": {},
   "source": [
    "# 2nd Purning Technique"
   ]
  },
  {
   "cell_type": "code",
   "execution_count": null,
   "id": "cad16c5a",
   "metadata": {},
   "outputs": [],
   "source": [
    "#min_samples_leaf"
   ]
  },
  {
   "cell_type": "code",
   "execution_count": null,
   "id": "fcc5530d",
   "metadata": {},
   "outputs": [],
   "source": [
    "\"\"\"for i in range(10,101):  #start=1,stop=101-1=100 step=1\n",
    "    rfc2=RandomForestClassifier(n_estimators=10,random_state=1,min_samples_leaf=i)\n",
    "    print(\"max depth:\",i)\n",
    "    #call function\n",
    "    rfc2=create_model(rfc2)\"\"\""
   ]
  },
  {
   "cell_type": "code",
   "execution_count": null,
   "id": "02d29cdd",
   "metadata": {},
   "outputs": [],
   "source": [
    "rfc2=RandomForestClassifier(n_estimators=10,random_state=1,min_samples_leaf=85)\n",
    "#call function\n",
    "rfc2=create_model(rfc2)"
   ]
  },
  {
   "cell_type": "code",
   "execution_count": null,
   "id": "64aa794a",
   "metadata": {},
   "outputs": [],
   "source": [
    "#here recall is 0.41(41%)"
   ]
  },
  {
   "cell_type": "markdown",
   "id": "53c0d5bd",
   "metadata": {},
   "source": [
    "# Boosting Technique"
   ]
  },
  {
   "cell_type": "markdown",
   "id": "f0eac5bb",
   "metadata": {},
   "source": [
    "1.AdaBoostClassifier"
   ]
  },
  {
   "cell_type": "code",
   "execution_count": null,
   "id": "a8452dea",
   "metadata": {},
   "outputs": [],
   "source": [
    "#Apply Ensembling Technique Boosting\n",
    "#1.first apply ADA Boost: call inbuilt class AdaBoostClassifier\n",
    "#sklearn-package\n",
    "#ensemble -outer class\n",
    "#AdaBoostClassifier-inner class"
   ]
  },
  {
   "cell_type": "code",
   "execution_count": null,
   "id": "57776176",
   "metadata": {},
   "outputs": [],
   "source": [
    "from sklearn.ensemble import AdaBoostClassifier"
   ]
  },
  {
   "cell_type": "code",
   "execution_count": null,
   "id": "6e803f57",
   "metadata": {},
   "outputs": [],
   "source": [
    "#create the object of AdaBoostClassifier class\n",
    "\"\"\"for i in range(1,14): #start=1,stop=14-1=13 step=1\n",
    "    ada=AdaBoostClassifier(n_estimators=i,random_state=1)\n",
    "    print(\"ADA Boost:\",i)\n",
    "    #call function\n",
    "    ada=create_model(ada)\"\"\""
   ]
  },
  {
   "cell_type": "code",
   "execution_count": null,
   "id": "5325bf10",
   "metadata": {},
   "outputs": [],
   "source": [
    "ada=AdaBoostClassifier(n_estimators=13,random_state=1)\n",
    "#call function\n",
    "ada=create_model(ada)"
   ]
  },
  {
   "cell_type": "code",
   "execution_count": null,
   "id": "710691b6",
   "metadata": {},
   "outputs": [],
   "source": [
    "#here recall is 0.69(69%)"
   ]
  },
  {
   "cell_type": "markdown",
   "id": "ee09f5a7",
   "metadata": {},
   "source": [
    "2. GRADIENT BOOSTING"
   ]
  },
  {
   "cell_type": "code",
   "execution_count": null,
   "id": "0ced4023",
   "metadata": {},
   "outputs": [],
   "source": [
    "#2. Gradient Boosting(GB) : - \n",
    "#Its basically focus on short comings error  means fully grown tree \n",
    "#error means residual =actual output-predicted output\n",
    "\n",
    "#2. gradient Boost technuique : second tech. of Boosting Ensembling \n",
    "#technique \n",
    "# GB  : - its create a fully grown tree.this algorithm is focus on \n",
    "#short comings \n",
    "#short comings means error"
   ]
  },
  {
   "cell_type": "code",
   "execution_count": null,
   "id": "98917c4d",
   "metadata": {},
   "outputs": [],
   "source": [
    "#call inbuilt class for gradient boosting:GradientBoostingClassifier\n",
    "from sklearn.ensemble import GradientBoostingClassifier"
   ]
  },
  {
   "cell_type": "code",
   "execution_count": null,
   "id": "c90ab797",
   "metadata": {},
   "outputs": [],
   "source": [
    "\"\"\"for i in range(10,101):  #start=10 stop=101-1=100 step=1\n",
    "    #create the object of GradientBoostingClassifier class\n",
    "    gbc=GradientBoostingClassifier(n_estimators=i,random_state=1)\n",
    "    print('no. of estimators:',i)\n",
    "    #call function\n",
    "    gbc=create_model(gbc)\"\"\""
   ]
  },
  {
   "cell_type": "code",
   "execution_count": null,
   "id": "8043311a",
   "metadata": {},
   "outputs": [],
   "source": [
    "gbc=GradientBoostingClassifier(n_estimators=27,random_state=1)\n",
    "#call function\n",
    "gbc=create_model(gbc)"
   ]
  },
  {
   "cell_type": "code",
   "execution_count": null,
   "id": "411e5c5c",
   "metadata": {},
   "outputs": [],
   "source": [
    "#here recall is 0.63(63%)"
   ]
  },
  {
   "cell_type": "markdown",
   "id": "eaf81e84",
   "metadata": {},
   "source": [
    "3.EXTREME GRADIENT BOOSTING (XGB)"
   ]
  },
  {
   "cell_type": "code",
   "execution_count": null,
   "id": "767fad19",
   "metadata": {},
   "outputs": [],
   "source": [
    "#3. Extreame Gradient Boosting  : 3rd technique of Boosting \n",
    "#This is better version of gradient boosting . . short form XGB \n",
    "#why call better version of Gradient Boosting : -\n",
    "#1. XG Bossting use : - Multithreading technique\n",
    "#2. It takes less memory space and faster \n",
    "#3. It is very useful to handle huge amt of data .Its deal large amount of data\n",
    "#4. Its handle outlier because have inbuilt capability\n",
    "#5. Its handle null values \n",
    "#6. Its handle automatic overfitting situation ."
   ]
  },
  {
   "cell_type": "code",
   "execution_count": null,
   "id": "aa1cee03",
   "metadata": {},
   "outputs": [],
   "source": [
    "#Call inbuilt class:XGBClassifier\n",
    "#inbuilt package xgboost\n",
    "#first time install xgboost on system\n",
    "#!pip install xgboost"
   ]
  },
  {
   "cell_type": "code",
   "execution_count": null,
   "id": "36ab9631",
   "metadata": {},
   "outputs": [],
   "source": [
    "from xgboost import XGBClassifier"
   ]
  },
  {
   "cell_type": "code",
   "execution_count": null,
   "id": "87cb27bd",
   "metadata": {},
   "outputs": [],
   "source": [
    "\"\"\"for i in range(10,101):  #start=10 step=101-1=100 step=1\n",
    "    #create the objrct of GradientBoostingClassifier class\n",
    "    xgc=XGBClassifier(n_estimators=i,reg_alpha=1,random_state=1)\n",
    "    #reg_alpha=1 means yes\n",
    "    print('no. of estimators:',i)\n",
    "    #call function\n",
    "    xgc=create_model(xgc)\"\"\""
   ]
  },
  {
   "cell_type": "code",
   "execution_count": null,
   "id": "ec3b1765",
   "metadata": {},
   "outputs": [],
   "source": [
    "xgc=XGBClassifier(n_estimators=11,reg_alpha=1,random_state=1)\n",
    "xgc=create_model(xgc)"
   ]
  },
  {
   "cell_type": "code",
   "execution_count": null,
   "id": "b7a2f5a4",
   "metadata": {},
   "outputs": [],
   "source": [
    "#here recall is 0.51(51%)"
   ]
  },
  {
   "cell_type": "markdown",
   "id": "f9846cb6",
   "metadata": {},
   "source": [
    "# Support Vector Machine(SVM)"
   ]
  },
  {
   "cell_type": "markdown",
   "id": "a1715970",
   "metadata": {},
   "source": [
    "1.linear kernal function of SVM "
   ]
  },
  {
   "cell_type": "code",
   "execution_count": null,
   "id": "27a57775",
   "metadata": {},
   "outputs": [],
   "source": [
    "#give data in support vector machine\n",
    "#1.linear kernal function of SVM:\n",
    "#means suppose data are linear separatable with the help of straight line\n",
    "#call inbuilt class for linear SVM:LinearSVC\n",
    "#SVC means support vector classifier\n",
    "#sklearn=package\n",
    "#svm-outer class\n",
    "#LinearSVC -inner class\n",
    "#fit()\n",
    "#predict()\n",
    "from sklearn.svm import LinearSVC"
   ]
  },
  {
   "cell_type": "code",
   "execution_count": null,
   "id": "bbb5db6a",
   "metadata": {},
   "outputs": [],
   "source": [
    "#create the object of LinearSVC class\n",
    "svc=LinearSVC(random_state=1)#no add any error means suppose no outlier in our \n",
    "#dataset means it is hard margin"
   ]
  },
  {
   "cell_type": "code",
   "execution_count": null,
   "id": "b1290b84",
   "metadata": {},
   "outputs": [],
   "source": [
    "#call function\n",
    "svc=create_model(svc)"
   ]
  },
  {
   "cell_type": "code",
   "execution_count": null,
   "id": "58565e4a",
   "metadata": {},
   "outputs": [],
   "source": [
    "#here recall is 0.56(56%)"
   ]
  },
  {
   "cell_type": "markdown",
   "id": "e7728489",
   "metadata": {},
   "source": [
    "2.polynomial"
   ]
  },
  {
   "cell_type": "code",
   "execution_count": null,
   "id": "3657d5fc",
   "metadata": {},
   "outputs": [],
   "source": [
    "#call inbuilt class SVC\n",
    "from sklearn.svm import SVC"
   ]
  },
  {
   "cell_type": "code",
   "execution_count": null,
   "id": "3563903a",
   "metadata": {},
   "outputs": [],
   "source": [
    "#CREATE OBJ of SVC class(use polynomial)\n",
    "poly_svc=SVC(random_state=1,kernel='poly')"
   ]
  },
  {
   "cell_type": "code",
   "execution_count": null,
   "id": "934d4e49",
   "metadata": {},
   "outputs": [],
   "source": [
    "#call function\n",
    "poly_svc=create_model(poly_svc)"
   ]
  },
  {
   "cell_type": "code",
   "execution_count": null,
   "id": "b6b61c6b",
   "metadata": {},
   "outputs": [],
   "source": [
    "#here recall is 0.54%(54%)"
   ]
  },
  {
   "cell_type": "markdown",
   "id": "bde35493",
   "metadata": {},
   "source": [
    "3.radial"
   ]
  },
  {
   "cell_type": "code",
   "execution_count": null,
   "id": "9d97767f",
   "metadata": {},
   "outputs": [],
   "source": [
    "#CREATE OBJ of SVC class(use radial) :value of kernal =rbf\n",
    "#rbf=radial basic function\n",
    "r_svc=SVC(random_state=1,kernel='rbf')"
   ]
  },
  {
   "cell_type": "code",
   "execution_count": null,
   "id": "ccec46ab",
   "metadata": {},
   "outputs": [],
   "source": [
    "#call function\n",
    "r_svc=create_model(r_svc)"
   ]
  },
  {
   "cell_type": "code",
   "execution_count": null,
   "id": "5abd2b62",
   "metadata": {},
   "outputs": [],
   "source": [
    "#here recall is"
   ]
  },
  {
   "cell_type": "markdown",
   "id": "f7da8852",
   "metadata": {},
   "source": [
    "# KNN Algorithm"
   ]
  },
  {
   "cell_type": "code",
   "execution_count": null,
   "id": "df0f361e",
   "metadata": {},
   "outputs": [],
   "source": [
    "#Apply KNN Algorithm: inbuilt class KNeighboursClassifier which definer in outer class nrighbours and \n",
    "#outer class define in package sklearn\n",
    "from sklearn.neighbors import KNeighborsClassifier\n",
    "#create the objecrt of KNeighboursClassifier class and passing some parameters\n",
    "knc=KNeighborsClassifier(n_neighbors=3,metric=\"minkowski\",p=2)\n",
    "#p=2 means Euclidean distance method"
   ]
  },
  {
   "cell_type": "code",
   "execution_count": null,
   "id": "b778c469",
   "metadata": {},
   "outputs": [],
   "source": [
    "#call function\n",
    "knc=create_model(knc)\n",
    "#recall 0.78(78%)"
   ]
  },
  {
   "cell_type": "code",
   "execution_count": null,
   "id": "57fb5654",
   "metadata": {},
   "outputs": [],
   "source": []
  },
  {
   "cell_type": "code",
   "execution_count": null,
   "id": "d172c489",
   "metadata": {},
   "outputs": [],
   "source": []
  },
  {
   "cell_type": "code",
   "execution_count": null,
   "id": "84df19a2",
   "metadata": {},
   "outputs": [],
   "source": []
  },
  {
   "cell_type": "code",
   "execution_count": null,
   "id": "e38ce48e",
   "metadata": {},
   "outputs": [],
   "source": []
  }
 ],
 "metadata": {
  "kernelspec": {
   "display_name": "Python 3 (ipykernel)",
   "language": "python",
   "name": "python3"
  },
  "language_info": {
   "codemirror_mode": {
    "name": "ipython",
    "version": 3
   },
   "file_extension": ".py",
   "mimetype": "text/x-python",
   "name": "python",
   "nbconvert_exporter": "python",
   "pygments_lexer": "ipython3",
   "version": "3.9.12"
  }
 },
 "nbformat": 4,
 "nbformat_minor": 5
}
